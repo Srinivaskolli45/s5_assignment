{
  "cells": [
    {
      "cell_type": "markdown",
      "metadata": {
        "id": "view-in-github",
        "colab_type": "text"
      },
      "source": [
        "<a href=\"https://colab.research.google.com/github/Srinivaskolli45/s5_assignment/blob/main/s5_assignment.ipynb\" target=\"_parent\"><img src=\"https://colab.research.google.com/assets/colab-badge.svg\" alt=\"Open In Colab\"/></a>"
      ]
    },
    {
      "cell_type": "code",
      "execution_count": 2,
      "metadata": {
        "id": "mAk2Sx14nWCC"
      },
      "outputs": [],
      "source": [
        "#assignment 5 for BN,GN and LN \n",
        "\n",
        "from __future__ import print_function\n",
        "import torch\n",
        "import torch.nn as nn\n",
        "import torch.nn.functional as F\n",
        "import torch.optim as optim\n",
        "from torchvision import datasets, transforms    \n"
      ]
    },
    {
      "cell_type": "code",
      "source": [
        "!git clone https://github.com/Srinivaskolli45/s4_assignment.git\n",
        "\n"
      ],
      "metadata": {
        "colab": {
          "base_uri": "https://localhost:8080/"
        },
        "id": "PT8l8cRahCMk",
        "outputId": "ea91486d-4cc7-43a5-d1bc-7a5182107d98"
      },
      "execution_count": 3,
      "outputs": [
        {
          "output_type": "stream",
          "name": "stdout",
          "text": [
            "fatal: destination path 's4_assignment' already exists and is not an empty directory.\n"
          ]
        }
      ]
    },
    {
      "cell_type": "code",
      "source": [
        "import sys\n",
        "sys.path.append('/content/s4_assignment/')\n",
        "#sys.path.append('/content/pyTorchModels/models/session8')\n",
        "from model import *"
      ],
      "metadata": {
        "id": "_s5f34aOh79_"
      },
      "execution_count": 7,
      "outputs": []
    },
    {
      "cell_type": "code",
      "execution_count": 8,
      "metadata": {
        "colab": {
          "base_uri": "https://localhost:8080/"
        },
        "id": "GFirULQlFa3Z",
        "outputId": "e3b44c54-8e0f-4800-cd30-04af9c32b475"
      },
      "outputs": [
        {
          "output_type": "stream",
          "name": "stdout",
          "text": [
            "CUDA Available? True\n"
          ]
        },
        {
          "output_type": "stream",
          "name": "stderr",
          "text": [
            "/usr/local/lib/python3.9/dist-packages/torch/utils/data/dataloader.py:561: UserWarning: This DataLoader will create 4 worker processes in total. Our suggested max number of worker in current system is 2, which is smaller than what this DataLoader is going to create. Please be aware that excessive worker creation might get DataLoader running slow or even freeze, lower the worker number to avoid potential slowness/freeze if necessary.\n",
            "  warnings.warn(_create_warning_msg(\n"
          ]
        }
      ],
      "source": [
        "import torchvision\n",
        "\n",
        "use_cuda = torch.cuda.is_available()\n",
        "print(\"CUDA Available?\", use_cuda)\n",
        "torch.manual_seed(1)\n",
        "batch_size = 128\n",
        "\n",
        "#kwargs = {'num_workers': 4, 'pin_memory': True} if use_cuda else {}\n",
        "kwargs = dict(num_workers= 4, pin_memory= True if use_cuda else False,shuffle=True,batch_size=batch_size)\n",
        "\n",
        "train_loader = torch.utils.data.DataLoader(\n",
        "    datasets.MNIST('../data', train=True, download=True,\n",
        "                    transform=transforms.Compose([\n",
        "                        transforms.ToTensor(),\n",
        "                        transforms.Normalize((0.1307,), (0.3081,)),\n",
        "                        transforms.RandomRotation(degrees=7)\n",
        "                    ])),**kwargs)\n",
        "test_loader = torch.utils.data.DataLoader(\n",
        "    datasets.MNIST('../data', train=False, transform=transforms.Compose([\n",
        "                        transforms.ToTensor(),\n",
        "                        transforms.Normalize((0.1307,), (0.3081,))\n",
        "                        #transforms.RandomRotation(degrees=7)\n",
        "                    ])),**kwargs)\n",
        "\n",
        "     \n"
      ]
    },
    {
      "cell_type": "code",
      "execution_count": 9,
      "metadata": {
        "id": "93nemJ_BtAAD",
        "colab": {
          "base_uri": "https://localhost:8080/"
        },
        "outputId": "49f3abfb-a4cd-4f3d-c602-9f646fc283d1"
      },
      "outputs": [
        {
          "output_type": "stream",
          "name": "stdout",
          "text": [
            "Looking in indexes: https://pypi.org/simple, https://us-python.pkg.dev/colab-wheels/public/simple/\n",
            "Requirement already satisfied: torchsummary in /usr/local/lib/python3.9/dist-packages (1.5.1)\n",
            "cuda\n",
            "----------------------------------------------------------------\n",
            "        Layer (type)               Output Shape         Param #\n",
            "================================================================\n",
            "            Conv2d-1           [-1, 10, 26, 26]             100\n",
            "       BatchNorm2d-2           [-1, 10, 26, 26]              20\n",
            "              ReLU-3           [-1, 10, 26, 26]               0\n",
            "            Conv2d-4           [-1, 10, 24, 24]             910\n",
            "       BatchNorm2d-5           [-1, 10, 24, 24]              20\n",
            "              ReLU-6           [-1, 10, 24, 24]               0\n",
            "         MaxPool2d-7           [-1, 10, 12, 12]               0\n",
            "            Conv2d-8           [-1, 32, 10, 10]           2,912\n",
            "       BatchNorm2d-9           [-1, 32, 10, 10]              64\n",
            "             ReLU-10           [-1, 32, 10, 10]               0\n",
            "           Conv2d-11             [-1, 10, 8, 8]           2,890\n",
            "      BatchNorm2d-12             [-1, 10, 8, 8]              20\n",
            "             ReLU-13             [-1, 10, 8, 8]               0\n",
            "           Conv2d-14             [-1, 20, 6, 6]           1,820\n",
            "      BatchNorm2d-15             [-1, 20, 6, 6]              40\n",
            "             ReLU-16             [-1, 20, 6, 6]               0\n",
            "           Conv2d-17             [-1, 10, 6, 6]             210\n",
            "      BatchNorm2d-18             [-1, 10, 6, 6]              20\n",
            "             ReLU-19             [-1, 10, 6, 6]               0\n",
            "        AvgPool2d-20             [-1, 10, 1, 1]               0\n",
            "================================================================\n",
            "Total params: 9,026\n",
            "Trainable params: 9,026\n",
            "Non-trainable params: 0\n",
            "----------------------------------------------------------------\n",
            "Input size (MB): 0.00\n",
            "Forward/backward pass size (MB): 0.41\n",
            "Params size (MB): 0.03\n",
            "Estimated Total Size (MB): 0.45\n",
            "----------------------------------------------------------------\n"
          ]
        },
        {
          "output_type": "stream",
          "name": "stderr",
          "text": [
            "/content/s4_assignment/model.py:146: UserWarning: Implicit dimension choice for log_softmax has been deprecated. Change the call to include dim=X as an argument.\n",
            "  return F.log_softmax(x)\n"
          ]
        }
      ],
      "source": [
        "!pip install torchsummary\n",
        "from torchsummary import summary\n",
        "use_cuda = torch.cuda.is_available()\n",
        "device = torch.device(\"cuda\" if use_cuda else \"cpu\")\n",
        "print(device)\n",
        "model = Net(norm_type=\"nn.BatchNorm2d\").to(device)\n",
        "#model = Net(norm_type=\"nn.GroupNorm\").to(device)\n",
        "#model = Net(norm_type=\"nn.LayerNorm\").to(device)\n",
        "summary(model, input_size=(1, 28, 28))\n",
        "\n"
      ]
    },
    {
      "cell_type": "code",
      "execution_count": null,
      "metadata": {
        "id": "9Wi2WU0jGue_"
      },
      "outputs": [],
      "source": [
        "from tqdm import tqdm\n",
        "def train(model, device, train_loader, optimizer, epoch):\n",
        "    train_loss = 0\n",
        "    correct = 0\n",
        "    processed=0\n",
        "    model.train()\n",
        "    pbar = tqdm(train_loader)\n",
        "    for batch_idx, (data, target) in enumerate(pbar):\n",
        "        data, target = data.to(device), target.to(device)\n",
        "        optimizer.zero_grad()\n",
        "        output = model(data)\n",
        "        loss = F.nll_loss(output, target)\n",
        "        loss.backward()\n",
        "        optimizer.step()\n",
        "        train_loss +=loss\n",
        "        pred = output.argmax(dim=1,keepdim=True)\n",
        "        \n",
        "        correct += pred.eq(target.view_as(pred)).sum().item()\n",
        "        processed += len(data)\n",
        "        pbar.set_description(desc= f'loss={loss.item()} batch_id={batch_idx} Accurary={100*correct/processed:0.2f}')\n",
        "\n",
        "    \n",
        "   # print('\\nTrain set: average loss: {:.4f}, accuracy: {}/{} ({:.0f}%)\\n'.format(\n",
        "   \n",
        "def test(model, device, test_loader,test_losses=[],test_acc=[]):\n",
        "    model.eval()\n",
        "    test_loss = 0\n",
        "    correct = 0\n",
        "    with torch.no_grad():\n",
        "        for data, target in test_loader:\n",
        "            data, target = data.to(device), target.to(device)\n",
        "            output = model(data)\n",
        "            test_loss += F.nll_loss(output, target, reduction='sum').item()  # sum up batch loss\n",
        "            pred = output.argmax(dim=1, keepdim=True)  # get the index of the max log-probability\n",
        "            correct += pred.eq(target.view_as(pred)).sum().item()\n",
        "\n",
        "    test_loss /= len(test_loader.dataset)\n",
        "    print('\\nTest set: Average loss: {:.4f}, Accuracy: {}/{} ({:.2f}%)\\n'.format(\n",
        "        test_loss, correct, len(test_loader.dataset),\n",
        "        100. * correct / len(test_loader.dataset)))\n",
        "    test_acc.append(100. * correct / len(test_loader.dataset))\n",
        "    test_losses.append(test_loss)\n",
        "    return test_losses,test_acc"
      ]
    },
    {
      "cell_type": "code",
      "execution_count": null,
      "metadata": {
        "colab": {
          "base_uri": "https://localhost:8080/"
        },
        "id": "qhLYl_ZDG4hm",
        "outputId": "ccf2ef20-07fd-4b45-b1a5-42eced15e5ad"
      },
      "outputs": [
        {
          "name": "stdout",
          "output_type": "stream",
          "text": [
            "Epoch--> 1\n"
          ]
        },
        {
          "name": "stderr",
          "output_type": "stream",
          "text": [
            "  0%|          | 0/469 [00:00<?, ?it/s]<ipython-input-29-e1aaeb9d0b5a>:151: UserWarning: Implicit dimension choice for log_softmax has been deprecated. Change the call to include dim=X as an argument.\n",
            "  return F.log_softmax(x)\n",
            "loss=0.3467850685119629 batch_id=468 Accurary=77.50: 100%|██████████| 469/469 [00:39<00:00, 12.00it/s]\n"
          ]
        },
        {
          "name": "stdout",
          "output_type": "stream",
          "text": [
            "\n",
            "Test set: Average loss: 0.3235, Accuracy: 9629/10000 (96.29%)\n",
            "\n",
            "Epoch--> 2\n"
          ]
        },
        {
          "name": "stderr",
          "output_type": "stream",
          "text": [
            "loss=0.24080504477024078 batch_id=468 Accurary=95.97: 100%|██████████| 469/469 [00:37<00:00, 12.64it/s]\n"
          ]
        },
        {
          "name": "stdout",
          "output_type": "stream",
          "text": [
            "\n",
            "Test set: Average loss: 0.1553, Accuracy: 9736/10000 (97.36%)\n",
            "\n",
            "Epoch--> 3\n"
          ]
        },
        {
          "name": "stderr",
          "output_type": "stream",
          "text": [
            "loss=0.0938335433602333 batch_id=468 Accurary=97.34: 100%|██████████| 469/469 [00:36<00:00, 12.87it/s]\n"
          ]
        },
        {
          "name": "stdout",
          "output_type": "stream",
          "text": [
            "\n",
            "Test set: Average loss: 0.1067, Accuracy: 9814/10000 (98.14%)\n",
            "\n",
            "Epoch--> 4\n"
          ]
        },
        {
          "name": "stderr",
          "output_type": "stream",
          "text": [
            "loss=0.10905960202217102 batch_id=468 Accurary=97.80: 100%|██████████| 469/469 [00:36<00:00, 12.93it/s]\n"
          ]
        },
        {
          "name": "stdout",
          "output_type": "stream",
          "text": [
            "\n",
            "Test set: Average loss: 0.0856, Accuracy: 9817/10000 (98.17%)\n",
            "\n",
            "Epoch--> 5\n"
          ]
        },
        {
          "name": "stderr",
          "output_type": "stream",
          "text": [
            "loss=0.08802244812250137 batch_id=468 Accurary=98.04: 100%|██████████| 469/469 [00:35<00:00, 13.27it/s]\n"
          ]
        },
        {
          "name": "stdout",
          "output_type": "stream",
          "text": [
            "\n",
            "Test set: Average loss: 0.0672, Accuracy: 9872/10000 (98.72%)\n",
            "\n",
            "Epoch--> 6\n"
          ]
        },
        {
          "name": "stderr",
          "output_type": "stream",
          "text": [
            "loss=0.19350112974643707 batch_id=468 Accurary=98.27: 100%|██████████| 469/469 [00:34<00:00, 13.45it/s]\n"
          ]
        },
        {
          "name": "stdout",
          "output_type": "stream",
          "text": [
            "\n",
            "Test set: Average loss: 0.0600, Accuracy: 9864/10000 (98.64%)\n",
            "\n",
            "Epoch--> 7\n"
          ]
        },
        {
          "name": "stderr",
          "output_type": "stream",
          "text": [
            "loss=0.10808130353689194 batch_id=468 Accurary=98.37: 100%|██████████| 469/469 [00:34<00:00, 13.44it/s]\n"
          ]
        },
        {
          "name": "stdout",
          "output_type": "stream",
          "text": [
            "\n",
            "Test set: Average loss: 0.0523, Accuracy: 9897/10000 (98.97%)\n",
            "\n",
            "Epoch--> 8\n"
          ]
        },
        {
          "name": "stderr",
          "output_type": "stream",
          "text": [
            "loss=0.03587436303496361 batch_id=468 Accurary=98.54: 100%|██████████| 469/469 [00:34<00:00, 13.72it/s]\n"
          ]
        },
        {
          "name": "stdout",
          "output_type": "stream",
          "text": [
            "\n",
            "Test set: Average loss: 0.0490, Accuracy: 9891/10000 (98.91%)\n",
            "\n",
            "Epoch--> 9\n"
          ]
        },
        {
          "name": "stderr",
          "output_type": "stream",
          "text": [
            "loss=0.10015303641557693 batch_id=468 Accurary=98.53: 100%|██████████| 469/469 [00:34<00:00, 13.51it/s]\n"
          ]
        },
        {
          "name": "stdout",
          "output_type": "stream",
          "text": [
            "\n",
            "Test set: Average loss: 0.0453, Accuracy: 9902/10000 (99.02%)\n",
            "\n",
            "Epoch--> 10\n"
          ]
        },
        {
          "name": "stderr",
          "output_type": "stream",
          "text": [
            "loss=0.05994614586234093 batch_id=468 Accurary=98.67: 100%|██████████| 469/469 [00:34<00:00, 13.75it/s]\n"
          ]
        },
        {
          "name": "stdout",
          "output_type": "stream",
          "text": [
            "\n",
            "Test set: Average loss: 0.0424, Accuracy: 9897/10000 (98.97%)\n",
            "\n",
            "Epoch--> 11\n"
          ]
        },
        {
          "name": "stderr",
          "output_type": "stream",
          "text": [
            "loss=0.021080458536744118 batch_id=468 Accurary=98.83: 100%|██████████| 469/469 [00:33<00:00, 14.09it/s]\n"
          ]
        },
        {
          "name": "stdout",
          "output_type": "stream",
          "text": [
            "\n",
            "Test set: Average loss: 0.0528, Accuracy: 9877/10000 (98.77%)\n",
            "\n",
            "Epoch--> 12\n"
          ]
        },
        {
          "name": "stderr",
          "output_type": "stream",
          "text": [
            "loss=0.06657257676124573 batch_id=468 Accurary=98.87: 100%|██████████| 469/469 [00:34<00:00, 13.64it/s]\n"
          ]
        },
        {
          "name": "stdout",
          "output_type": "stream",
          "text": [
            "\n",
            "Test set: Average loss: 0.0388, Accuracy: 9918/10000 (99.18%)\n",
            "\n",
            "Epoch--> 13\n"
          ]
        },
        {
          "name": "stderr",
          "output_type": "stream",
          "text": [
            "loss=0.02910689450800419 batch_id=468 Accurary=98.88: 100%|██████████| 469/469 [00:34<00:00, 13.76it/s]\n"
          ]
        },
        {
          "name": "stdout",
          "output_type": "stream",
          "text": [
            "\n",
            "Test set: Average loss: 0.0405, Accuracy: 9897/10000 (98.97%)\n",
            "\n",
            "Epoch--> 14\n"
          ]
        },
        {
          "name": "stderr",
          "output_type": "stream",
          "text": [
            "loss=0.10801691561937332 batch_id=468 Accurary=98.96: 100%|██████████| 469/469 [00:35<00:00, 13.36it/s]\n"
          ]
        },
        {
          "name": "stdout",
          "output_type": "stream",
          "text": [
            "\n",
            "Test set: Average loss: 0.0446, Accuracy: 9907/10000 (99.07%)\n",
            "\n",
            "Epoch--> 15\n"
          ]
        },
        {
          "name": "stderr",
          "output_type": "stream",
          "text": [
            "loss=0.07007915526628494 batch_id=468 Accurary=98.88: 100%|██████████| 469/469 [00:34<00:00, 13.58it/s]\n"
          ]
        },
        {
          "name": "stdout",
          "output_type": "stream",
          "text": [
            "\n",
            "Test set: Average loss: 0.0391, Accuracy: 9908/10000 (99.08%)\n",
            "\n",
            "Epoch--> 16\n"
          ]
        },
        {
          "name": "stderr",
          "output_type": "stream",
          "text": [
            "loss=0.0316971130669117 batch_id=468 Accurary=98.96: 100%|██████████| 469/469 [00:34<00:00, 13.53it/s]\n"
          ]
        },
        {
          "name": "stdout",
          "output_type": "stream",
          "text": [
            "\n",
            "Test set: Average loss: 0.0409, Accuracy: 9901/10000 (99.01%)\n",
            "\n",
            "Epoch--> 17\n"
          ]
        },
        {
          "name": "stderr",
          "output_type": "stream",
          "text": [
            "loss=0.0480126291513443 batch_id=468 Accurary=98.97: 100%|██████████| 469/469 [00:37<00:00, 12.63it/s]\n"
          ]
        },
        {
          "name": "stdout",
          "output_type": "stream",
          "text": [
            "\n",
            "Test set: Average loss: 0.0428, Accuracy: 9887/10000 (98.87%)\n",
            "\n",
            "Epoch--> 18\n"
          ]
        },
        {
          "name": "stderr",
          "output_type": "stream",
          "text": [
            "loss=0.03792921081185341 batch_id=468 Accurary=99.05: 100%|██████████| 469/469 [00:37<00:00, 12.36it/s]\n"
          ]
        },
        {
          "name": "stdout",
          "output_type": "stream",
          "text": [
            "\n",
            "Test set: Average loss: 0.0458, Accuracy: 9876/10000 (98.76%)\n",
            "\n",
            "Epoch--> 19\n"
          ]
        },
        {
          "name": "stderr",
          "output_type": "stream",
          "text": [
            "loss=0.05706576630473137 batch_id=468 Accurary=99.04: 100%|██████████| 469/469 [00:39<00:00, 11.99it/s]\n"
          ]
        },
        {
          "name": "stdout",
          "output_type": "stream",
          "text": [
            "\n",
            "Test set: Average loss: 0.0407, Accuracy: 9910/10000 (99.10%)\n",
            "\n",
            "Epoch--> 20\n"
          ]
        },
        {
          "name": "stderr",
          "output_type": "stream",
          "text": [
            "loss=0.03483540192246437 batch_id=468 Accurary=99.06: 100%|██████████| 469/469 [00:39<00:00, 11.98it/s]\n"
          ]
        },
        {
          "name": "stdout",
          "output_type": "stream",
          "text": [
            "\n",
            "Test set: Average loss: 0.0370, Accuracy: 9910/10000 (99.10%)\n",
            "\n"
          ]
        }
      ],
      "source": [
        "#group normalization\n",
        "from torch.optim.lr_scheduler import StepLR\n",
        "model = Net(norm_type=\"nn.GroupNorm\").to(device)\n",
        "optimizer = optim.SGD(model.parameters(), lr=0.01, momentum=0.9)\n",
        "test_loss_gn=[]\n",
        "test_acc_gn=[]\n",
        "EPOCHS =20\n",
        "#schedular = StepLR(optimizer=optimizer,step_size=6,gamma=0.1)\n",
        "for epoch in range(EPOCHS):\n",
        "    print(f'Epoch--> {epoch+1}')\n",
        "    train(model, device, train_loader, optimizer, epoch)\n",
        "    #print(\"Current learning rate:\", optimizer.param_groups[0]['lr'])\n",
        "    #schedular.step()\n",
        "    test_loss_gn ,test_acc_gn =test(model, device, test_loader,test_loss_gn ,test_acc_gn)"
      ]
    },
    {
      "cell_type": "code",
      "execution_count": null,
      "metadata": {
        "colab": {
          "background_save": true,
          "base_uri": "https://localhost:8080/"
        },
        "id": "yNwiF8KpG4iO",
        "outputId": "5161c028-06b0-4588-aad6-c1f880a18226"
      },
      "outputs": [
        {
          "name": "stdout",
          "output_type": "stream",
          "text": [
            "Epoch--> 1\n"
          ]
        },
        {
          "name": "stderr",
          "output_type": "stream",
          "text": [
            "  0%|          | 0/469 [00:00<?, ?it/s]<ipython-input-29-e1aaeb9d0b5a>:151: UserWarning: Implicit dimension choice for log_softmax has been deprecated. Change the call to include dim=X as an argument.\n",
            "  return F.log_softmax(x)\n",
            "loss=0.7098209261894226 batch_id=468 Accurary=79.29: 100%|██████████| 469/469 [00:37<00:00, 12.65it/s]\n"
          ]
        },
        {
          "name": "stdout",
          "output_type": "stream",
          "text": [
            "\n",
            "Test set: Average loss: 0.6363, Accuracy: 9479/10000 (94.79%)\n",
            "\n",
            "Epoch--> 2\n"
          ]
        },
        {
          "name": "stderr",
          "output_type": "stream",
          "text": [
            "loss=0.437338262796402 batch_id=468 Accurary=95.22: 100%|██████████| 469/469 [00:37<00:00, 12.51it/s]\n"
          ]
        },
        {
          "name": "stdout",
          "output_type": "stream",
          "text": [
            "\n",
            "Test set: Average loss: 0.4113, Accuracy: 9686/10000 (96.86%)\n",
            "\n",
            "Epoch--> 3\n"
          ]
        },
        {
          "name": "stderr",
          "output_type": "stream",
          "text": [
            "loss=0.31122928857803345 batch_id=468 Accurary=96.49: 100%|██████████| 469/469 [00:36<00:00, 12.72it/s]\n"
          ]
        },
        {
          "name": "stdout",
          "output_type": "stream",
          "text": [
            "\n",
            "Test set: Average loss: 0.3026, Accuracy: 9784/10000 (97.84%)\n",
            "\n",
            "Epoch--> 4\n"
          ]
        },
        {
          "name": "stderr",
          "output_type": "stream",
          "text": [
            "loss=0.2777726948261261 batch_id=468 Accurary=97.12: 100%|██████████| 469/469 [00:36<00:00, 13.02it/s]\n"
          ]
        },
        {
          "name": "stdout",
          "output_type": "stream",
          "text": [
            "\n",
            "Test set: Average loss: 0.2522, Accuracy: 9804/10000 (98.04%)\n",
            "\n",
            "Epoch--> 5\n"
          ]
        },
        {
          "name": "stderr",
          "output_type": "stream",
          "text": [
            "loss=0.20089107751846313 batch_id=468 Accurary=97.40: 100%|██████████| 469/469 [00:35<00:00, 13.36it/s]\n"
          ]
        },
        {
          "name": "stdout",
          "output_type": "stream",
          "text": [
            "\n",
            "Test set: Average loss: 0.2254, Accuracy: 9809/10000 (98.09%)\n",
            "\n",
            "Epoch--> 6\n"
          ]
        },
        {
          "name": "stderr",
          "output_type": "stream",
          "text": [
            "loss=0.26102325320243835 batch_id=468 Accurary=97.66: 100%|██████████| 469/469 [00:35<00:00, 13.10it/s]\n"
          ]
        },
        {
          "name": "stdout",
          "output_type": "stream",
          "text": [
            "\n",
            "Test set: Average loss: 0.1826, Accuracy: 9860/10000 (98.60%)\n",
            "\n",
            "Epoch--> 7\n"
          ]
        },
        {
          "name": "stderr",
          "output_type": "stream",
          "text": [
            "loss=0.197073832154274 batch_id=468 Accurary=97.84: 100%|██████████| 469/469 [00:37<00:00, 12.58it/s]\n"
          ]
        },
        {
          "name": "stdout",
          "output_type": "stream",
          "text": [
            "\n",
            "Test set: Average loss: 0.1632, Accuracy: 9870/10000 (98.70%)\n",
            "\n",
            "Epoch--> 8\n"
          ]
        },
        {
          "name": "stderr",
          "output_type": "stream",
          "text": [
            "loss=0.12202972918748856 batch_id=468 Accurary=97.92: 100%|██████████| 469/469 [00:36<00:00, 12.84it/s]\n"
          ]
        },
        {
          "name": "stdout",
          "output_type": "stream",
          "text": [
            "\n",
            "Test set: Average loss: 0.1475, Accuracy: 9876/10000 (98.76%)\n",
            "\n",
            "Epoch--> 9\n"
          ]
        },
        {
          "name": "stderr",
          "output_type": "stream",
          "text": [
            "loss=0.10106691718101501 batch_id=468 Accurary=98.12: 100%|██████████| 469/469 [00:35<00:00, 13.11it/s]\n"
          ]
        },
        {
          "name": "stdout",
          "output_type": "stream",
          "text": [
            "\n",
            "Test set: Average loss: 0.1410, Accuracy: 9867/10000 (98.67%)\n",
            "\n",
            "Epoch--> 10\n"
          ]
        },
        {
          "name": "stderr",
          "output_type": "stream",
          "text": [
            "loss=0.1096365824341774 batch_id=468 Accurary=98.22: 100%|██████████| 469/469 [00:37<00:00, 12.54it/s]\n"
          ]
        },
        {
          "name": "stdout",
          "output_type": "stream",
          "text": [
            "\n",
            "Test set: Average loss: 0.1248, Accuracy: 9892/10000 (98.92%)\n",
            "\n",
            "Epoch--> 11\n"
          ]
        },
        {
          "name": "stderr",
          "output_type": "stream",
          "text": [
            "loss=0.09200957417488098 batch_id=468 Accurary=98.28: 100%|██████████| 469/469 [00:40<00:00, 11.71it/s]\n"
          ]
        },
        {
          "name": "stdout",
          "output_type": "stream",
          "text": [
            "\n",
            "Test set: Average loss: 0.1296, Accuracy: 9850/10000 (98.50%)\n",
            "\n",
            "Epoch--> 12\n"
          ]
        },
        {
          "name": "stderr",
          "output_type": "stream",
          "text": [
            "loss=0.1515246033668518 batch_id=468 Accurary=98.38: 100%|██████████| 469/469 [00:36<00:00, 12.73it/s]\n"
          ]
        },
        {
          "name": "stdout",
          "output_type": "stream",
          "text": [
            "\n",
            "Test set: Average loss: 0.1119, Accuracy: 9898/10000 (98.98%)\n",
            "\n",
            "Epoch--> 13\n"
          ]
        },
        {
          "name": "stderr",
          "output_type": "stream",
          "text": [
            "loss=0.11225149780511856 batch_id=468 Accurary=98.44: 100%|██████████| 469/469 [00:37<00:00, 12.46it/s]\n"
          ]
        },
        {
          "name": "stdout",
          "output_type": "stream",
          "text": [
            "\n",
            "Test set: Average loss: 0.1077, Accuracy: 9885/10000 (98.85%)\n",
            "\n",
            "Epoch--> 14\n"
          ]
        },
        {
          "name": "stderr",
          "output_type": "stream",
          "text": [
            "loss=0.13391034305095673 batch_id=468 Accurary=98.45: 100%|██████████| 469/469 [00:37<00:00, 12.62it/s]\n"
          ]
        },
        {
          "name": "stdout",
          "output_type": "stream",
          "text": [
            "\n",
            "Test set: Average loss: 0.0959, Accuracy: 9904/10000 (99.04%)\n",
            "\n",
            "Epoch--> 15\n"
          ]
        },
        {
          "name": "stderr",
          "output_type": "stream",
          "text": [
            "loss=0.08782566338777542 batch_id=468 Accurary=98.45: 100%|██████████| 469/469 [00:36<00:00, 12.93it/s]\n"
          ]
        },
        {
          "name": "stdout",
          "output_type": "stream",
          "text": [
            "\n",
            "Test set: Average loss: 0.0957, Accuracy: 9887/10000 (98.87%)\n",
            "\n",
            "Epoch--> 16\n"
          ]
        },
        {
          "name": "stderr",
          "output_type": "stream",
          "text": [
            "loss=0.0723443552851677 batch_id=468 Accurary=98.56: 100%|██████████| 469/469 [00:36<00:00, 13.00it/s]\n"
          ]
        },
        {
          "name": "stdout",
          "output_type": "stream",
          "text": [
            "\n",
            "Test set: Average loss: 0.1202, Accuracy: 9798/10000 (97.98%)\n",
            "\n",
            "Epoch--> 17\n"
          ]
        },
        {
          "name": "stderr",
          "output_type": "stream",
          "text": [
            "loss=0.07391059398651123 batch_id=468 Accurary=98.59: 100%|██████████| 469/469 [00:36<00:00, 12.89it/s]\n"
          ]
        },
        {
          "name": "stdout",
          "output_type": "stream",
          "text": [
            "\n",
            "Test set: Average loss: 0.0895, Accuracy: 9890/10000 (98.90%)\n",
            "\n",
            "Epoch--> 18\n"
          ]
        },
        {
          "name": "stderr",
          "output_type": "stream",
          "text": [
            "loss=0.08242829889059067 batch_id=468 Accurary=98.60: 100%|██████████| 469/469 [00:36<00:00, 12.87it/s]\n"
          ]
        },
        {
          "name": "stdout",
          "output_type": "stream",
          "text": [
            "\n",
            "Test set: Average loss: 0.0940, Accuracy: 9858/10000 (98.58%)\n",
            "\n",
            "Epoch--> 19\n"
          ]
        },
        {
          "name": "stderr",
          "output_type": "stream",
          "text": [
            "loss=0.060117289423942566 batch_id=468 Accurary=98.70: 100%|██████████| 469/469 [00:36<00:00, 12.80it/s]\n"
          ]
        },
        {
          "name": "stdout",
          "output_type": "stream",
          "text": [
            "\n",
            "Test set: Average loss: 0.0761, Accuracy: 9917/10000 (99.17%)\n",
            "\n",
            "Epoch--> 20\n"
          ]
        },
        {
          "name": "stderr",
          "output_type": "stream",
          "text": [
            "loss=0.14179763197898865 batch_id=468 Accurary=98.68: 100%|██████████| 469/469 [00:34<00:00, 13.45it/s]\n"
          ]
        },
        {
          "name": "stdout",
          "output_type": "stream",
          "text": [
            "\n",
            "Test set: Average loss: 0.0822, Accuracy: 9893/10000 (98.93%)\n",
            "\n"
          ]
        }
      ],
      "source": [
        "#Layer normalization\n",
        "from torch.optim.lr_scheduler import StepLR\n",
        "model = Net(norm_type=\"nn.LayerNorm\").to(device)\n",
        "optimizer = optim.SGD(model.parameters(), lr=0.01, momentum=0.9)\n",
        "test_loss_ln=[]\n",
        "test_acc_ln=[]\n",
        "EPOCHS =20\n",
        "#schedular = StepLR(optimizer=optimizer,step_size=6,gamma=0.1)\n",
        "for epoch in range(EPOCHS):\n",
        "    print(f'Epoch--> {epoch+1}')\n",
        "    train(model, device, train_loader, optimizer, epoch)\n",
        "    #print(\"Current learning rate:\", optimizer.param_groups[0]['lr'])\n",
        "    #schedular.step()\n",
        "    test_loss_ln ,test_acc_ln =test(model, device, test_loader,test_loss_ln ,test_acc_ln)"
      ]
    },
    {
      "cell_type": "code",
      "execution_count": null,
      "metadata": {
        "colab": {
          "base_uri": "https://localhost:8080/"
        },
        "id": "soiD4z7aLxya",
        "outputId": "51bd3602-c557-4a50-bf32-0c3fd9c43eca"
      },
      "outputs": [
        {
          "name": "stdout",
          "output_type": "stream",
          "text": [
            "Epoch--> 1\n"
          ]
        },
        {
          "name": "stderr",
          "output_type": "stream",
          "text": [
            "  0%|          | 0/469 [00:00<?, ?it/s]<ipython-input-21-e1aaeb9d0b5a>:151: UserWarning: Implicit dimension choice for log_softmax has been deprecated. Change the call to include dim=X as an argument.\n",
            "  return F.log_softmax(x)\n",
            "loss=0.10965586453676224 batch_id=468 Accurary=90.66: 100%|██████████| 469/469 [00:34<00:00, 13.48it/s]\n"
          ]
        },
        {
          "name": "stdout",
          "output_type": "stream",
          "text": [
            "\n",
            "Test set: Average loss: 0.1416, Accuracy: 9786/10000 (97.86%)\n",
            "\n",
            "Epoch--> 2\n"
          ]
        },
        {
          "name": "stderr",
          "output_type": "stream",
          "text": [
            "loss=0.10234590619802475 batch_id=468 Accurary=97.44: 100%|██████████| 469/469 [00:35<00:00, 13.35it/s]\n"
          ]
        },
        {
          "name": "stdout",
          "output_type": "stream",
          "text": [
            "\n",
            "Test set: Average loss: 0.0895, Accuracy: 9829/10000 (98.29%)\n",
            "\n",
            "Epoch--> 3\n"
          ]
        },
        {
          "name": "stderr",
          "output_type": "stream",
          "text": [
            "loss=0.040025096386671066 batch_id=468 Accurary=98.01: 100%|██████████| 469/469 [00:35<00:00, 13.22it/s]\n"
          ]
        },
        {
          "name": "stdout",
          "output_type": "stream",
          "text": [
            "\n",
            "Test set: Average loss: 0.0644, Accuracy: 9860/10000 (98.60%)\n",
            "\n",
            "Epoch--> 4\n"
          ]
        },
        {
          "name": "stderr",
          "output_type": "stream",
          "text": [
            "loss=0.08760727196931839 batch_id=468 Accurary=98.29: 100%|██████████| 469/469 [00:36<00:00, 12.99it/s]\n"
          ]
        },
        {
          "name": "stdout",
          "output_type": "stream",
          "text": [
            "\n",
            "Test set: Average loss: 0.0519, Accuracy: 9896/10000 (98.96%)\n",
            "\n",
            "Epoch--> 5\n"
          ]
        },
        {
          "name": "stderr",
          "output_type": "stream",
          "text": [
            "loss=0.09476467221975327 batch_id=468 Accurary=98.42: 100%|██████████| 469/469 [00:35<00:00, 13.16it/s]\n"
          ]
        },
        {
          "name": "stdout",
          "output_type": "stream",
          "text": [
            "\n",
            "Test set: Average loss: 0.0522, Accuracy: 9885/10000 (98.85%)\n",
            "\n"
          ]
        }
      ],
      "source": [
        "#Batch normalization\n",
        "from torch.optim.lr_scheduler import StepLR\n",
        "model = Net(norm_type=\"nn.BatchNorm2d\").to(device)\n",
        "optimizer = optim.SGD(model.parameters(), lr=0.01, momentum=0.9)\n",
        "test_loss_bn=[]\n",
        "test_acc_bn=[]\n",
        "EPOCHS =20\n",
        "#schedular = StepLR(optimizer=optimizer,step_size=6,gamma=0.1)\n",
        "for epoch in range(EPOCHS):\n",
        "    print(f'Epoch--> {epoch+1}')\n",
        "    train(model, device, train_loader, optimizer, epoch)\n",
        "    #print(\"Current learning rate:\", optimizer.param_groups[0]['lr'])\n",
        "    #schedular.step()\n",
        "    test_loss_bn ,test_acc_bn =test(model, device, test_loader,test_loss_bn ,test_acc_bn)"
      ]
    },
    {
      "cell_type": "code",
      "execution_count": null,
      "metadata": {
        "colab": {
          "base_uri": "https://localhost:8080/",
          "height": 626
        },
        "id": "40LfYB0ALtNU",
        "outputId": "8a514402-7e5b-40fb-a10e-7aca7a236783"
      },
      "outputs": [
        {
          "data": {
            "text/plain": [
              "Text(0.5, 1.0, 'Test Accuracy')"
            ]
          },
          "execution_count": 25,
          "metadata": {},
          "output_type": "execute_result"
        },
        {
          "data": {
            "image/png": "[encoded data removed]",
            "text/plain": [
              "<Figure size 1500x1000 with 2 Axes>"
            ]
          },
          "metadata": {},
          "output_type": "display_data"
        }
      ],
      "source": [
        "%matplotlib inline\n",
        "import matplotlib.pyplot as plt\n",
        "\n",
        "fig, axs = plt.subplots(2,1,figsize=(15,10))\n",
        "\n",
        "test_loss_gn = torch.tensor(test_loss_gn, device = 'cpu')\n",
        "test_loss_ln = torch.tensor(test_loss_ln, device = 'cpu')\n",
        "test_losses_bn = torch.tensor(test_loss_bn, device = 'cpu')\n",
        "\n",
        "axs[0].plot(test_loss_gn,label ='GN')\n",
        "axs[0].plot(test_loss_ln,label ='LN')\n",
        "axs[0].plot(test_loss_bn,label ='BN')\n",
        "axs[0].legend()\n",
        "axs[0].set_title(\"Test Loss\")\n",
        "\n",
        "\n",
        "axs[1].plot(test_acc_gn,label ='GN')\n",
        "axs[1].plot(test_acc_ln,label ='LN')\n",
        "axs[1].plot(test_acc_bn,label ='BN')\n",
        "axs[1].legend()\n",
        "axs[1].set_title(\"Test Accuracy\")"
      ]
    }
  ],
  "metadata": {
    "accelerator": "GPU",
    "colab": {
      "provenance": [],
      "authorship_tag": "ABX9TyNTTHh5kxZ81QaEqVkS+h9t",
      "include_colab_link": true
    },
    "gpuClass": "standard",
    "kernelspec": {
      "display_name": "Python 3",
      "name": "python3"
    },
    "language_info": {
      "name": "python"
    }
  },
  "nbformat": 4,
  "nbformat_minor": 0
}