{
  "cells": [
    {
      "cell_type": "markdown",
      "metadata": {
        "id": "view-in-github",
        "colab_type": "text"
      },
      "source": [
        "<a href=\"https://colab.research.google.com/github/Srinivaskolli45/s5_assignment/blob/main/s5_assignment.ipynb\" target=\"_parent\"><img src=\"https://colab.research.google.com/assets/colab-badge.svg\" alt=\"Open In Colab\"/></a>"
      ]
    },
    {
      "cell_type": "code",
      "execution_count": 1,
      "metadata": {
        "id": "mAk2Sx14nWCC"
      },
      "outputs": [],
      "source": [
        "#assignment 5 for BN,GN and LN \n",
        "\n",
        "from __future__ import print_function\n",
        "import torch\n",
        "import torch.nn as nn\n",
        "import torch.nn.functional as F\n",
        "import torch.optim as optim\n",
        "from torchvision import datasets, transforms    \n"
      ]
    },
    {
      "cell_type": "code",
      "source": [
        "!git clone https://github.com/Srinivaskolli45/s5_assignment.git\n",
        "\n"
      ],
      "metadata": {
        "colab": {
          "base_uri": "https://localhost:8080/"
        },
        "id": "PT8l8cRahCMk",
        "outputId": "39cf842e-015f-48d5-dada-d5f739cd086d"
      },
      "execution_count": 2,
      "outputs": [
        {
          "output_type": "stream",
          "name": "stdout",
          "text": [
            "Cloning into 's5_assignment'...\n",
            "remote: Enumerating objects: 18, done.\u001b[K\n",
            "remote: Counting objects: 100% (18/18), done.\u001b[K\n",
            "remote: Compressing objects: 100% (16/16), done.\u001b[K\n",
            "remote: Total 18 (delta 5), reused 0 (delta 0), pack-reused 0\u001b[K\n",
            "Unpacking objects: 100% (18/18), 72.94 KiB | 1.55 MiB/s, done.\n"
          ]
        }
      ]
    },
    {
      "cell_type": "code",
      "source": [
        "import sys\n",
        "sys.path.append('/content/s5_assignment/')\n",
        "\n",
        "from model import *"
      ],
      "metadata": {
        "id": "_s5f34aOh79_"
      },
      "execution_count": 3,
      "outputs": []
    },
    {
      "cell_type": "code",
      "execution_count": 5,
      "metadata": {
        "colab": {
          "base_uri": "https://localhost:8080/"
        },
        "id": "GFirULQlFa3Z",
        "outputId": "a1ab0a45-82e5-4387-8935-dc905294c037"
      },
      "outputs": [
        {
          "output_type": "stream",
          "name": "stdout",
          "text": [
            "CUDA Available? True\n"
          ]
        }
      ],
      "source": [
        "import torchvision\n",
        "\n",
        "use_cuda = torch.cuda.is_available()\n",
        "print(\"CUDA Available?\", use_cuda)\n",
        "torch.manual_seed(1)\n",
        "batch_size = 128\n",
        "\n",
        "#kwargs = {'num_workers': 4, 'pin_memory': True} if use_cuda else {}\n",
        "kwargs = dict(num_workers= 4, pin_memory= True if use_cuda else False,shuffle=True,batch_size=batch_size)\n",
        "\n",
        "train_loader = torch.utils.data.DataLoader(\n",
        "    datasets.MNIST('../data', train=True, download=True,\n",
        "                    transform=transforms.Compose([\n",
        "                        transforms.ToTensor(),\n",
        "                        transforms.Normalize((0.1307,), (0.3081,)),\n",
        "                        transforms.RandomRotation(degrees=7)\n",
        "                    ])),**kwargs)\n",
        "test_loader = torch.utils.data.DataLoader(\n",
        "    datasets.MNIST('../data', train=False, transform=transforms.Compose([\n",
        "                        transforms.ToTensor(),\n",
        "                        transforms.Normalize((0.1307,), (0.3081,))\n",
        "                        #transforms.RandomRotation(degrees=7)\n",
        "                    ])),**kwargs)\n",
        "\n",
        "     \n"
      ]
    },
    {
      "cell_type": "code",
      "execution_count": 6,
      "metadata": {
        "id": "93nemJ_BtAAD",
        "colab": {
          "base_uri": "https://localhost:8080/"
        },
        "outputId": "43fb002e-8b95-4042-e065-b5430f7a9499"
      },
      "outputs": [
        {
          "output_type": "stream",
          "name": "stdout",
          "text": [
            "Looking in indexes: https://pypi.org/simple, https://us-python.pkg.dev/colab-wheels/public/simple/\n",
            "Requirement already satisfied: torchsummary in /usr/local/lib/python3.9/dist-packages (1.5.1)\n",
            "cuda\n",
            "----------------------------------------------------------------\n",
            "        Layer (type)               Output Shape         Param #\n",
            "================================================================\n",
            "            Conv2d-1           [-1, 10, 26, 26]             100\n",
            "       BatchNorm2d-2           [-1, 10, 26, 26]              20\n",
            "              ReLU-3           [-1, 10, 26, 26]               0\n",
            "            Conv2d-4           [-1, 10, 24, 24]             910\n",
            "       BatchNorm2d-5           [-1, 10, 24, 24]              20\n",
            "              ReLU-6           [-1, 10, 24, 24]               0\n",
            "         MaxPool2d-7           [-1, 10, 12, 12]               0\n",
            "            Conv2d-8           [-1, 32, 10, 10]           2,912\n",
            "       BatchNorm2d-9           [-1, 32, 10, 10]              64\n",
            "             ReLU-10           [-1, 32, 10, 10]               0\n",
            "           Conv2d-11             [-1, 10, 8, 8]           2,890\n",
            "      BatchNorm2d-12             [-1, 10, 8, 8]              20\n",
            "             ReLU-13             [-1, 10, 8, 8]               0\n",
            "           Conv2d-14             [-1, 20, 6, 6]           1,820\n",
            "      BatchNorm2d-15             [-1, 20, 6, 6]              40\n",
            "             ReLU-16             [-1, 20, 6, 6]               0\n",
            "           Conv2d-17             [-1, 10, 6, 6]             210\n",
            "      BatchNorm2d-18             [-1, 10, 6, 6]              20\n",
            "             ReLU-19             [-1, 10, 6, 6]               0\n",
            "        AvgPool2d-20             [-1, 10, 1, 1]               0\n",
            "================================================================\n",
            "Total params: 9,026\n",
            "Trainable params: 9,026\n",
            "Non-trainable params: 0\n",
            "----------------------------------------------------------------\n",
            "Input size (MB): 0.00\n",
            "Forward/backward pass size (MB): 0.41\n",
            "Params size (MB): 0.03\n",
            "Estimated Total Size (MB): 0.45\n",
            "----------------------------------------------------------------\n"
          ]
        },
        {
          "output_type": "stream",
          "name": "stderr",
          "text": [
            "/content/s5_assignment/model.py:141: UserWarning: Implicit dimension choice for log_softmax has been deprecated. Change the call to include dim=X as an argument.\n",
            "  return F.log_softmax(x)\n"
          ]
        }
      ],
      "source": [
        "!pip install torchsummary\n",
        "from torchsummary import summary\n",
        "use_cuda = torch.cuda.is_available()\n",
        "device = torch.device(\"cuda\" if use_cuda else \"cpu\")\n",
        "print(device)\n",
        "model = Net(norm_type=\"nn.BatchNorm2d\").to(device)\n",
        "#model = Net(norm_type=\"nn.GroupNorm\").to(device)\n",
        "#model = Net(norm_type=\"nn.LayerNorm\").to(device)\n",
        "summary(model, input_size=(1, 28, 28))\n",
        "\n"
      ]
    },
    {
      "cell_type": "code",
      "execution_count": 7,
      "metadata": {
        "id": "9Wi2WU0jGue_"
      },
      "outputs": [],
      "source": [
        "from tqdm import tqdm\n",
        "def train(model, device, train_loader, optimizer, epoch):\n",
        "    train_loss = 0\n",
        "    correct = 0\n",
        "    processed=0\n",
        "    model.train()\n",
        "    pbar = tqdm(train_loader)\n",
        "    for batch_idx, (data, target) in enumerate(pbar):\n",
        "        data, target = data.to(device), target.to(device)\n",
        "        optimizer.zero_grad()\n",
        "        output = model(data)\n",
        "        loss = F.nll_loss(output, target)\n",
        "        loss.backward()\n",
        "        optimizer.step()\n",
        "        train_loss +=loss\n",
        "        pred = output.argmax(dim=1,keepdim=True)\n",
        "        \n",
        "        correct += pred.eq(target.view_as(pred)).sum().item()\n",
        "        processed += len(data)\n",
        "        pbar.set_description(desc= f'loss={loss.item()} batch_id={batch_idx} Accurary={100*correct/processed:0.2f}')\n",
        "\n",
        "    \n",
        "   # print('\\nTrain set: average loss: {:.4f}, accuracy: {}/{} ({:.0f}%)\\n'.format(\n",
        "   \n",
        "def test(model, device, test_loader,test_losses=[],test_acc=[]):\n",
        "    model.eval()\n",
        "    test_loss = 0\n",
        "    correct = 0\n",
        "    with torch.no_grad():\n",
        "        for data, target in test_loader:\n",
        "            data, target = data.to(device), target.to(device)\n",
        "            output = model(data)\n",
        "            test_loss += F.nll_loss(output, target, reduction='sum').item()  # sum up batch loss\n",
        "            pred = output.argmax(dim=1, keepdim=True)  # get the index of the max log-probability\n",
        "            correct += pred.eq(target.view_as(pred)).sum().item()\n",
        "\n",
        "    test_loss /= len(test_loader.dataset)\n",
        "    print('\\nTest set: Average loss: {:.4f}, Accuracy: {}/{} ({:.2f}%)\\n'.format(\n",
        "        test_loss, correct, len(test_loader.dataset),\n",
        "        100. * correct / len(test_loader.dataset)))\n",
        "    test_acc.append(100. * correct / len(test_loader.dataset))\n",
        "    test_losses.append(test_loss)\n",
        "    return test_losses,test_acc"
      ]
    },
    {
      "cell_type": "code",
      "execution_count": 8,
      "metadata": {
        "colab": {
          "base_uri": "https://localhost:8080/"
        },
        "id": "qhLYl_ZDG4hm",
        "outputId": "e3149725-3be8-464e-a939-f1b8c044031f"
      },
      "outputs": [
        {
          "output_type": "stream",
          "name": "stdout",
          "text": [
            "Epoch--> 1\n"
          ]
        },
        {
          "output_type": "stream",
          "name": "stderr",
          "text": [
            "loss=0.35300275683403015 batch_id=468 Accurary=77.44: 100%|██████████| 469/469 [00:37<00:00, 12.65it/s]\n"
          ]
        },
        {
          "output_type": "stream",
          "name": "stdout",
          "text": [
            "\n",
            "Test set: Average loss: 0.3226, Accuracy: 9633/10000 (96.33%)\n",
            "\n",
            "Epoch--> 2\n"
          ]
        },
        {
          "output_type": "stream",
          "name": "stderr",
          "text": [
            "loss=0.23876620829105377 batch_id=468 Accurary=95.95: 100%|██████████| 469/469 [00:35<00:00, 13.27it/s]\n"
          ]
        },
        {
          "output_type": "stream",
          "name": "stdout",
          "text": [
            "\n",
            "Test set: Average loss: 0.1587, Accuracy: 9731/10000 (97.31%)\n",
            "\n",
            "Epoch--> 3\n"
          ]
        },
        {
          "output_type": "stream",
          "name": "stderr",
          "text": [
            "loss=0.09748660773038864 batch_id=468 Accurary=97.37: 100%|██████████| 469/469 [00:35<00:00, 13.10it/s]\n"
          ]
        },
        {
          "output_type": "stream",
          "name": "stdout",
          "text": [
            "\n",
            "Test set: Average loss: 0.1078, Accuracy: 9817/10000 (98.17%)\n",
            "\n",
            "Epoch--> 4\n"
          ]
        },
        {
          "output_type": "stream",
          "name": "stderr",
          "text": [
            "loss=0.12116650491952896 batch_id=468 Accurary=97.78: 100%|██████████| 469/469 [00:34<00:00, 13.54it/s]\n"
          ]
        },
        {
          "output_type": "stream",
          "name": "stdout",
          "text": [
            "\n",
            "Test set: Average loss: 0.0870, Accuracy: 9814/10000 (98.14%)\n",
            "\n",
            "Epoch--> 5\n"
          ]
        },
        {
          "output_type": "stream",
          "name": "stderr",
          "text": [
            "loss=0.07765460014343262 batch_id=468 Accurary=98.05: 100%|██████████| 469/469 [00:34<00:00, 13.49it/s]\n"
          ]
        },
        {
          "output_type": "stream",
          "name": "stdout",
          "text": [
            "\n",
            "Test set: Average loss: 0.0702, Accuracy: 9849/10000 (98.49%)\n",
            "\n",
            "Epoch--> 6\n"
          ]
        },
        {
          "output_type": "stream",
          "name": "stderr",
          "text": [
            "loss=0.21104228496551514 batch_id=468 Accurary=98.27: 100%|██████████| 469/469 [00:35<00:00, 13.12it/s]\n"
          ]
        },
        {
          "output_type": "stream",
          "name": "stdout",
          "text": [
            "\n",
            "Test set: Average loss: 0.0548, Accuracy: 9891/10000 (98.91%)\n",
            "\n",
            "Epoch--> 7\n"
          ]
        },
        {
          "output_type": "stream",
          "name": "stderr",
          "text": [
            "loss=0.09523472934961319 batch_id=468 Accurary=98.36: 100%|██████████| 469/469 [00:36<00:00, 13.03it/s]\n"
          ]
        },
        {
          "output_type": "stream",
          "name": "stdout",
          "text": [
            "\n",
            "Test set: Average loss: 0.0515, Accuracy: 9895/10000 (98.95%)\n",
            "\n",
            "Epoch--> 8\n"
          ]
        },
        {
          "output_type": "stream",
          "name": "stderr",
          "text": [
            "loss=0.03862379118800163 batch_id=468 Accurary=98.58: 100%|██████████| 469/469 [00:35<00:00, 13.04it/s]\n"
          ]
        },
        {
          "output_type": "stream",
          "name": "stdout",
          "text": [
            "\n",
            "Test set: Average loss: 0.0498, Accuracy: 9894/10000 (98.94%)\n",
            "\n",
            "Epoch--> 9\n"
          ]
        },
        {
          "output_type": "stream",
          "name": "stderr",
          "text": [
            "loss=0.0928008034825325 batch_id=468 Accurary=98.52: 100%|██████████| 469/469 [00:36<00:00, 12.95it/s]\n"
          ]
        },
        {
          "output_type": "stream",
          "name": "stdout",
          "text": [
            "\n",
            "Test set: Average loss: 0.0460, Accuracy: 9899/10000 (98.99%)\n",
            "\n",
            "Epoch--> 10\n"
          ]
        },
        {
          "output_type": "stream",
          "name": "stderr",
          "text": [
            "loss=0.07692943513393402 batch_id=468 Accurary=98.69: 100%|██████████| 469/469 [00:36<00:00, 12.93it/s]\n"
          ]
        },
        {
          "output_type": "stream",
          "name": "stdout",
          "text": [
            "\n",
            "Test set: Average loss: 0.0471, Accuracy: 9888/10000 (98.88%)\n",
            "\n",
            "Epoch--> 11\n"
          ]
        },
        {
          "output_type": "stream",
          "name": "stderr",
          "text": [
            "loss=0.02534942328929901 batch_id=468 Accurary=98.81: 100%|██████████| 469/469 [00:35<00:00, 13.07it/s]\n"
          ]
        },
        {
          "output_type": "stream",
          "name": "stdout",
          "text": [
            "\n",
            "Test set: Average loss: 0.0515, Accuracy: 9869/10000 (98.69%)\n",
            "\n",
            "Epoch--> 12\n"
          ]
        },
        {
          "output_type": "stream",
          "name": "stderr",
          "text": [
            "loss=0.06647059321403503 batch_id=468 Accurary=98.86: 100%|██████████| 469/469 [00:36<00:00, 12.97it/s]\n"
          ]
        },
        {
          "output_type": "stream",
          "name": "stdout",
          "text": [
            "\n",
            "Test set: Average loss: 0.0398, Accuracy: 9912/10000 (99.12%)\n",
            "\n",
            "Epoch--> 13\n"
          ]
        },
        {
          "output_type": "stream",
          "name": "stderr",
          "text": [
            "loss=0.03493000194430351 batch_id=468 Accurary=98.90: 100%|██████████| 469/469 [00:36<00:00, 13.02it/s]\n"
          ]
        },
        {
          "output_type": "stream",
          "name": "stdout",
          "text": [
            "\n",
            "Test set: Average loss: 0.0408, Accuracy: 9892/10000 (98.92%)\n",
            "\n",
            "Epoch--> 14\n"
          ]
        },
        {
          "output_type": "stream",
          "name": "stderr",
          "text": [
            "loss=0.13668352365493774 batch_id=468 Accurary=98.93: 100%|██████████| 469/469 [00:35<00:00, 13.10it/s]\n"
          ]
        },
        {
          "output_type": "stream",
          "name": "stdout",
          "text": [
            "\n",
            "Test set: Average loss: 0.0437, Accuracy: 9899/10000 (98.99%)\n",
            "\n",
            "Epoch--> 15\n"
          ]
        },
        {
          "output_type": "stream",
          "name": "stderr",
          "text": [
            "loss=0.07172077149152756 batch_id=468 Accurary=98.88: 100%|██████████| 469/469 [00:35<00:00, 13.31it/s]\n"
          ]
        },
        {
          "output_type": "stream",
          "name": "stdout",
          "text": [
            "\n",
            "Test set: Average loss: 0.0397, Accuracy: 9905/10000 (99.05%)\n",
            "\n",
            "Epoch--> 16\n"
          ]
        },
        {
          "output_type": "stream",
          "name": "stderr",
          "text": [
            "loss=0.032426513731479645 batch_id=468 Accurary=98.92: 100%|██████████| 469/469 [00:35<00:00, 13.28it/s]\n"
          ]
        },
        {
          "output_type": "stream",
          "name": "stdout",
          "text": [
            "\n",
            "Test set: Average loss: 0.0406, Accuracy: 9900/10000 (99.00%)\n",
            "\n",
            "Epoch--> 17\n"
          ]
        },
        {
          "output_type": "stream",
          "name": "stderr",
          "text": [
            "loss=0.03795948997139931 batch_id=468 Accurary=98.97: 100%|██████████| 469/469 [00:34<00:00, 13.46it/s]\n"
          ]
        },
        {
          "output_type": "stream",
          "name": "stdout",
          "text": [
            "\n",
            "Test set: Average loss: 0.0465, Accuracy: 9871/10000 (98.71%)\n",
            "\n",
            "Epoch--> 18\n"
          ]
        },
        {
          "output_type": "stream",
          "name": "stderr",
          "text": [
            "loss=0.050601691007614136 batch_id=468 Accurary=99.02: 100%|██████████| 469/469 [00:35<00:00, 13.08it/s]\n"
          ]
        },
        {
          "output_type": "stream",
          "name": "stdout",
          "text": [
            "\n",
            "Test set: Average loss: 0.0508, Accuracy: 9853/10000 (98.53%)\n",
            "\n",
            "Epoch--> 19\n"
          ]
        },
        {
          "output_type": "stream",
          "name": "stderr",
          "text": [
            "loss=0.03630935400724411 batch_id=468 Accurary=99.03: 100%|██████████| 469/469 [00:35<00:00, 13.05it/s]\n"
          ]
        },
        {
          "output_type": "stream",
          "name": "stdout",
          "text": [
            "\n",
            "Test set: Average loss: 0.0377, Accuracy: 9908/10000 (99.08%)\n",
            "\n",
            "Epoch--> 20\n"
          ]
        },
        {
          "output_type": "stream",
          "name": "stderr",
          "text": [
            "loss=0.03172536566853523 batch_id=468 Accurary=99.08: 100%|██████████| 469/469 [00:36<00:00, 12.74it/s]\n"
          ]
        },
        {
          "output_type": "stream",
          "name": "stdout",
          "text": [
            "\n",
            "Test set: Average loss: 0.0347, Accuracy: 9910/10000 (99.10%)\n",
            "\n"
          ]
        }
      ],
      "source": [
        "#group normalization\n",
        "from torch.optim.lr_scheduler import StepLR\n",
        "model = Net(norm_type=\"nn.GroupNorm\").to(device)\n",
        "optimizer = optim.SGD(model.parameters(), lr=0.01, momentum=0.9)\n",
        "test_loss_gn=[]\n",
        "test_acc_gn=[]\n",
        "EPOCHS =20\n",
        "#schedular = StepLR(optimizer=optimizer,step_size=6,gamma=0.1)\n",
        "for epoch in range(EPOCHS):\n",
        "    print(f'Epoch--> {epoch+1}')\n",
        "    train(model, device, train_loader, optimizer, epoch)\n",
        "    #print(\"Current learning rate:\", optimizer.param_groups[0]['lr'])\n",
        "    #schedular.step()\n",
        "    test_loss_gn ,test_acc_gn =test(model, device, test_loader,test_loss_gn ,test_acc_gn)"
      ]
    },
    {
      "cell_type": "code",
      "execution_count": 9,
      "metadata": {
        "colab": {
          "base_uri": "https://localhost:8080/"
        },
        "id": "yNwiF8KpG4iO",
        "outputId": "4f27bc1a-28e9-46b1-b3cb-e7b850194bd0"
      },
      "outputs": [
        {
          "output_type": "stream",
          "name": "stdout",
          "text": [
            "Epoch--> 1\n"
          ]
        },
        {
          "output_type": "stream",
          "name": "stderr",
          "text": [
            "loss=2.1975812911987305 batch_id=468 Accurary=27.16: 100%|██████████| 469/469 [00:38<00:00, 12.19it/s]\n"
          ]
        },
        {
          "output_type": "stream",
          "name": "stdout",
          "text": [
            "\n",
            "Test set: Average loss: 2.1924, Accuracy: 3328/10000 (33.28%)\n",
            "\n",
            "Epoch--> 2\n"
          ]
        },
        {
          "output_type": "stream",
          "name": "stderr",
          "text": [
            "loss=2.0842511653900146 batch_id=468 Accurary=42.15: 100%|██████████| 469/469 [00:36<00:00, 12.97it/s]\n"
          ]
        },
        {
          "output_type": "stream",
          "name": "stdout",
          "text": [
            "\n",
            "Test set: Average loss: 2.0607, Accuracy: 5842/10000 (58.42%)\n",
            "\n",
            "Epoch--> 3\n"
          ]
        },
        {
          "output_type": "stream",
          "name": "stderr",
          "text": [
            "loss=1.9037977457046509 batch_id=468 Accurary=66.09: 100%|██████████| 469/469 [00:35<00:00, 13.05it/s]\n"
          ]
        },
        {
          "output_type": "stream",
          "name": "stdout",
          "text": [
            "\n",
            "Test set: Average loss: 1.8780, Accuracy: 7491/10000 (74.91%)\n",
            "\n",
            "Epoch--> 4\n"
          ]
        },
        {
          "output_type": "stream",
          "name": "stderr",
          "text": [
            "loss=1.684882640838623 batch_id=468 Accurary=75.18: 100%|██████████| 469/469 [00:36<00:00, 12.88it/s]\n"
          ]
        },
        {
          "output_type": "stream",
          "name": "stdout",
          "text": [
            "\n",
            "Test set: Average loss: 1.6430, Accuracy: 8017/10000 (80.17%)\n",
            "\n",
            "Epoch--> 5\n"
          ]
        },
        {
          "output_type": "stream",
          "name": "stderr",
          "text": [
            "loss=1.4581371545791626 batch_id=468 Accurary=80.72: 100%|██████████| 469/469 [00:36<00:00, 12.79it/s]\n"
          ]
        },
        {
          "output_type": "stream",
          "name": "stdout",
          "text": [
            "\n",
            "Test set: Average loss: 1.4141, Accuracy: 8347/10000 (83.47%)\n",
            "\n",
            "Epoch--> 6\n"
          ]
        },
        {
          "output_type": "stream",
          "name": "stderr",
          "text": [
            "loss=1.1641039848327637 batch_id=468 Accurary=83.77: 100%|██████████| 469/469 [00:36<00:00, 12.84it/s]\n"
          ]
        },
        {
          "output_type": "stream",
          "name": "stdout",
          "text": [
            "\n",
            "Test set: Average loss: 1.2013, Accuracy: 8504/10000 (85.04%)\n",
            "\n",
            "Epoch--> 7\n"
          ]
        },
        {
          "output_type": "stream",
          "name": "stderr",
          "text": [
            "loss=1.0433454513549805 batch_id=468 Accurary=84.44: 100%|██████████| 469/469 [00:36<00:00, 12.98it/s]\n"
          ]
        },
        {
          "output_type": "stream",
          "name": "stdout",
          "text": [
            "\n",
            "Test set: Average loss: 1.0204, Accuracy: 8516/10000 (85.16%)\n",
            "\n",
            "Epoch--> 8\n"
          ]
        },
        {
          "output_type": "stream",
          "name": "stderr",
          "text": [
            "loss=0.9679727554321289 batch_id=468 Accurary=84.69: 100%|██████████| 469/469 [00:34<00:00, 13.55it/s]\n"
          ]
        },
        {
          "output_type": "stream",
          "name": "stdout",
          "text": [
            "\n",
            "Test set: Average loss: 0.9345, Accuracy: 8467/10000 (84.67%)\n",
            "\n",
            "Epoch--> 9\n"
          ]
        },
        {
          "output_type": "stream",
          "name": "stderr",
          "text": [
            "loss=0.7487780451774597 batch_id=468 Accurary=85.42: 100%|██████████| 469/469 [00:35<00:00, 13.37it/s]\n"
          ]
        },
        {
          "output_type": "stream",
          "name": "stdout",
          "text": [
            "\n",
            "Test set: Average loss: 0.7539, Accuracy: 8720/10000 (87.20%)\n",
            "\n",
            "Epoch--> 10\n"
          ]
        },
        {
          "output_type": "stream",
          "name": "stderr",
          "text": [
            "loss=0.6651621460914612 batch_id=468 Accurary=85.92: 100%|██████████| 469/469 [00:35<00:00, 13.36it/s]\n"
          ]
        },
        {
          "output_type": "stream",
          "name": "stdout",
          "text": [
            "\n",
            "Test set: Average loss: 0.6688, Accuracy: 8752/10000 (87.52%)\n",
            "\n",
            "Epoch--> 11\n"
          ]
        },
        {
          "output_type": "stream",
          "name": "stderr",
          "text": [
            "loss=0.5818418860435486 batch_id=468 Accurary=86.81: 100%|██████████| 469/469 [00:35<00:00, 13.17it/s]\n"
          ]
        },
        {
          "output_type": "stream",
          "name": "stdout",
          "text": [
            "\n",
            "Test set: Average loss: 0.6062, Accuracy: 8784/10000 (87.84%)\n",
            "\n",
            "Epoch--> 12\n"
          ]
        },
        {
          "output_type": "stream",
          "name": "stderr",
          "text": [
            "loss=0.604956328868866 batch_id=468 Accurary=87.53: 100%|██████████| 469/469 [00:36<00:00, 12.85it/s]\n"
          ]
        },
        {
          "output_type": "stream",
          "name": "stdout",
          "text": [
            "\n",
            "Test set: Average loss: 0.5383, Accuracy: 9281/10000 (92.81%)\n",
            "\n",
            "Epoch--> 13\n"
          ]
        },
        {
          "output_type": "stream",
          "name": "stderr",
          "text": [
            "loss=0.45461252331733704 batch_id=468 Accurary=94.32: 100%|██████████| 469/469 [00:36<00:00, 12.89it/s]\n"
          ]
        },
        {
          "output_type": "stream",
          "name": "stdout",
          "text": [
            "\n",
            "Test set: Average loss: 0.4398, Accuracy: 9633/10000 (96.33%)\n",
            "\n",
            "Epoch--> 14\n"
          ]
        },
        {
          "output_type": "stream",
          "name": "stderr",
          "text": [
            "loss=0.4573972225189209 batch_id=468 Accurary=95.32: 100%|██████████| 469/469 [00:36<00:00, 12.97it/s]\n"
          ]
        },
        {
          "output_type": "stream",
          "name": "stdout",
          "text": [
            "\n",
            "Test set: Average loss: 0.3952, Accuracy: 9635/10000 (96.35%)\n",
            "\n",
            "Epoch--> 15\n"
          ]
        },
        {
          "output_type": "stream",
          "name": "stderr",
          "text": [
            "loss=0.4026391804218292 batch_id=468 Accurary=95.72: 100%|██████████| 469/469 [00:36<00:00, 12.93it/s]\n"
          ]
        },
        {
          "output_type": "stream",
          "name": "stdout",
          "text": [
            "\n",
            "Test set: Average loss: 0.3705, Accuracy: 9595/10000 (95.95%)\n",
            "\n",
            "Epoch--> 16\n"
          ]
        },
        {
          "output_type": "stream",
          "name": "stderr",
          "text": [
            "loss=0.3274747133255005 batch_id=468 Accurary=96.18: 100%|██████████| 469/469 [00:36<00:00, 12.93it/s]\n"
          ]
        },
        {
          "output_type": "stream",
          "name": "stdout",
          "text": [
            "\n",
            "Test set: Average loss: 0.3325, Accuracy: 9665/10000 (96.65%)\n",
            "\n",
            "Epoch--> 17\n"
          ]
        },
        {
          "output_type": "stream",
          "name": "stderr",
          "text": [
            "loss=0.32760486006736755 batch_id=468 Accurary=96.27: 100%|██████████| 469/469 [00:36<00:00, 12.98it/s]\n"
          ]
        },
        {
          "output_type": "stream",
          "name": "stdout",
          "text": [
            "\n",
            "Test set: Average loss: 0.3195, Accuracy: 9661/10000 (96.61%)\n",
            "\n",
            "Epoch--> 18\n"
          ]
        },
        {
          "output_type": "stream",
          "name": "stderr",
          "text": [
            "loss=0.2926596403121948 batch_id=468 Accurary=96.59: 100%|██████████| 469/469 [00:36<00:00, 12.91it/s]\n"
          ]
        },
        {
          "output_type": "stream",
          "name": "stdout",
          "text": [
            "\n",
            "Test set: Average loss: 0.2714, Accuracy: 9699/10000 (96.99%)\n",
            "\n",
            "Epoch--> 19\n"
          ]
        },
        {
          "output_type": "stream",
          "name": "stderr",
          "text": [
            "loss=0.256576806306839 batch_id=468 Accurary=96.77: 100%|██████████| 469/469 [00:35<00:00, 13.05it/s]\n"
          ]
        },
        {
          "output_type": "stream",
          "name": "stdout",
          "text": [
            "\n",
            "Test set: Average loss: 0.2611, Accuracy: 9728/10000 (97.28%)\n",
            "\n",
            "Epoch--> 20\n"
          ]
        },
        {
          "output_type": "stream",
          "name": "stderr",
          "text": [
            "loss=0.33669352531433105 batch_id=468 Accurary=96.86: 100%|██████████| 469/469 [00:35<00:00, 13.21it/s]\n"
          ]
        },
        {
          "output_type": "stream",
          "name": "stdout",
          "text": [
            "\n",
            "Test set: Average loss: 0.2483, Accuracy: 9748/10000 (97.48%)\n",
            "\n"
          ]
        }
      ],
      "source": [
        "#Layer normalization\n",
        "from torch.optim.lr_scheduler import StepLR\n",
        "model = Net(norm_type=\"nn.LayerNorm\").to(device)\n",
        "optimizer = optim.SGD(model.parameters(), lr=0.01, momentum=0.9)\n",
        "test_loss_ln=[]\n",
        "test_acc_ln=[]\n",
        "EPOCHS =20\n",
        "#schedular = StepLR(optimizer=optimizer,step_size=6,gamma=0.1)\n",
        "for epoch in range(EPOCHS):\n",
        "    print(f'Epoch--> {epoch+1}')\n",
        "    train(model, device, train_loader, optimizer, epoch)\n",
        "    #print(\"Current learning rate:\", optimizer.param_groups[0]['lr'])\n",
        "    #schedular.step()\n",
        "    test_loss_ln ,test_acc_ln =test(model, device, test_loader,test_loss_ln ,test_acc_ln)"
      ]
    },
    {
      "cell_type": "code",
      "execution_count": 10,
      "metadata": {
        "colab": {
          "base_uri": "https://localhost:8080/"
        },
        "id": "soiD4z7aLxya",
        "outputId": "88deaa96-a26b-46a3-c1fd-5f8fd08228ab"
      },
      "outputs": [
        {
          "output_type": "stream",
          "name": "stdout",
          "text": [
            "Epoch--> 1\n"
          ]
        },
        {
          "output_type": "stream",
          "name": "stderr",
          "text": [
            "loss=0.16995172202587128 batch_id=468 Accurary=89.57: 100%|██████████| 469/469 [00:35<00:00, 13.17it/s]\n"
          ]
        },
        {
          "output_type": "stream",
          "name": "stdout",
          "text": [
            "\n",
            "Test set: Average loss: 0.2078, Accuracy: 9569/10000 (95.69%)\n",
            "\n",
            "Epoch--> 2\n"
          ]
        },
        {
          "output_type": "stream",
          "name": "stderr",
          "text": [
            "loss=0.07800362259149551 batch_id=468 Accurary=97.39: 100%|██████████| 469/469 [00:35<00:00, 13.19it/s]\n"
          ]
        },
        {
          "output_type": "stream",
          "name": "stdout",
          "text": [
            "\n",
            "Test set: Average loss: 0.1436, Accuracy: 9629/10000 (96.29%)\n",
            "\n",
            "Epoch--> 3\n"
          ]
        },
        {
          "output_type": "stream",
          "name": "stderr",
          "text": [
            "loss=0.05109599232673645 batch_id=468 Accurary=97.99: 100%|██████████| 469/469 [00:35<00:00, 13.33it/s]\n"
          ]
        },
        {
          "output_type": "stream",
          "name": "stdout",
          "text": [
            "\n",
            "Test set: Average loss: 0.0674, Accuracy: 9848/10000 (98.48%)\n",
            "\n",
            "Epoch--> 4\n"
          ]
        },
        {
          "output_type": "stream",
          "name": "stderr",
          "text": [
            "loss=0.0701422467827797 batch_id=468 Accurary=98.22: 100%|██████████| 469/469 [00:34<00:00, 13.41it/s]\n"
          ]
        },
        {
          "output_type": "stream",
          "name": "stdout",
          "text": [
            "\n",
            "Test set: Average loss: 0.0587, Accuracy: 9873/10000 (98.73%)\n",
            "\n",
            "Epoch--> 5\n"
          ]
        },
        {
          "output_type": "stream",
          "name": "stderr",
          "text": [
            "loss=0.03936217725276947 batch_id=468 Accurary=98.36: 100%|██████████| 469/469 [00:35<00:00, 13.17it/s]\n"
          ]
        },
        {
          "output_type": "stream",
          "name": "stdout",
          "text": [
            "\n",
            "Test set: Average loss: 0.0593, Accuracy: 9856/10000 (98.56%)\n",
            "\n",
            "Epoch--> 6\n"
          ]
        },
        {
          "output_type": "stream",
          "name": "stderr",
          "text": [
            "loss=0.14313936233520508 batch_id=468 Accurary=98.49: 100%|██████████| 469/469 [00:36<00:00, 12.98it/s]\n"
          ]
        },
        {
          "output_type": "stream",
          "name": "stdout",
          "text": [
            "\n",
            "Test set: Average loss: 0.0463, Accuracy: 9887/10000 (98.87%)\n",
            "\n",
            "Epoch--> 7\n"
          ]
        },
        {
          "output_type": "stream",
          "name": "stderr",
          "text": [
            "loss=0.06637401133775711 batch_id=468 Accurary=98.62: 100%|██████████| 469/469 [00:36<00:00, 12.89it/s]\n"
          ]
        },
        {
          "output_type": "stream",
          "name": "stdout",
          "text": [
            "\n",
            "Test set: Average loss: 0.0528, Accuracy: 9864/10000 (98.64%)\n",
            "\n",
            "Epoch--> 8\n"
          ]
        },
        {
          "output_type": "stream",
          "name": "stderr",
          "text": [
            "loss=0.0580604262650013 batch_id=468 Accurary=98.68: 100%|██████████| 469/469 [00:35<00:00, 13.05it/s]\n"
          ]
        },
        {
          "output_type": "stream",
          "name": "stdout",
          "text": [
            "\n",
            "Test set: Average loss: 0.0414, Accuracy: 9894/10000 (98.94%)\n",
            "\n",
            "Epoch--> 9\n"
          ]
        },
        {
          "output_type": "stream",
          "name": "stderr",
          "text": [
            "loss=0.020176682621240616 batch_id=468 Accurary=98.82: 100%|██████████| 469/469 [00:36<00:00, 12.99it/s]\n"
          ]
        },
        {
          "output_type": "stream",
          "name": "stdout",
          "text": [
            "\n",
            "Test set: Average loss: 0.0389, Accuracy: 9898/10000 (98.98%)\n",
            "\n",
            "Epoch--> 10\n"
          ]
        },
        {
          "output_type": "stream",
          "name": "stderr",
          "text": [
            "loss=0.0283524002879858 batch_id=468 Accurary=98.83: 100%|██████████| 469/469 [00:35<00:00, 13.07it/s]\n"
          ]
        },
        {
          "output_type": "stream",
          "name": "stdout",
          "text": [
            "\n",
            "Test set: Average loss: 0.0413, Accuracy: 9891/10000 (98.91%)\n",
            "\n",
            "Epoch--> 11\n"
          ]
        },
        {
          "output_type": "stream",
          "name": "stderr",
          "text": [
            "loss=0.025368453934788704 batch_id=468 Accurary=98.91: 100%|██████████| 469/469 [00:35<00:00, 13.12it/s]\n"
          ]
        },
        {
          "output_type": "stream",
          "name": "stdout",
          "text": [
            "\n",
            "Test set: Average loss: 0.0320, Accuracy: 9916/10000 (99.16%)\n",
            "\n",
            "Epoch--> 12\n"
          ]
        },
        {
          "output_type": "stream",
          "name": "stderr",
          "text": [
            "loss=0.04348894953727722 batch_id=468 Accurary=98.90: 100%|██████████| 469/469 [00:35<00:00, 13.06it/s]\n"
          ]
        },
        {
          "output_type": "stream",
          "name": "stdout",
          "text": [
            "\n",
            "Test set: Average loss: 0.0346, Accuracy: 9899/10000 (98.99%)\n",
            "\n",
            "Epoch--> 13\n"
          ]
        },
        {
          "output_type": "stream",
          "name": "stderr",
          "text": [
            "loss=0.04331304505467415 batch_id=468 Accurary=98.94: 100%|██████████| 469/469 [00:35<00:00, 13.39it/s]\n"
          ]
        },
        {
          "output_type": "stream",
          "name": "stdout",
          "text": [
            "\n",
            "Test set: Average loss: 0.0336, Accuracy: 9913/10000 (99.13%)\n",
            "\n",
            "Epoch--> 14\n"
          ]
        },
        {
          "output_type": "stream",
          "name": "stderr",
          "text": [
            "loss=0.022968875244259834 batch_id=468 Accurary=98.97: 100%|██████████| 469/469 [00:34<00:00, 13.56it/s]\n"
          ]
        },
        {
          "output_type": "stream",
          "name": "stdout",
          "text": [
            "\n",
            "Test set: Average loss: 0.0345, Accuracy: 9901/10000 (99.01%)\n",
            "\n",
            "Epoch--> 15\n"
          ]
        },
        {
          "output_type": "stream",
          "name": "stderr",
          "text": [
            "loss=0.018635379150509834 batch_id=468 Accurary=98.97: 100%|██████████| 469/469 [00:34<00:00, 13.51it/s]\n"
          ]
        },
        {
          "output_type": "stream",
          "name": "stdout",
          "text": [
            "\n",
            "Test set: Average loss: 0.0321, Accuracy: 9916/10000 (99.16%)\n",
            "\n",
            "Epoch--> 16\n"
          ]
        },
        {
          "output_type": "stream",
          "name": "stderr",
          "text": [
            "loss=0.015214928425848484 batch_id=468 Accurary=99.03: 100%|██████████| 469/469 [00:35<00:00, 13.23it/s]\n"
          ]
        },
        {
          "output_type": "stream",
          "name": "stdout",
          "text": [
            "\n",
            "Test set: Average loss: 0.0323, Accuracy: 9902/10000 (99.02%)\n",
            "\n",
            "Epoch--> 17\n"
          ]
        },
        {
          "output_type": "stream",
          "name": "stderr",
          "text": [
            "loss=0.015572377480566502 batch_id=468 Accurary=99.03: 100%|██████████| 469/469 [00:35<00:00, 13.18it/s]\n"
          ]
        },
        {
          "output_type": "stream",
          "name": "stdout",
          "text": [
            "\n",
            "Test set: Average loss: 0.0338, Accuracy: 9910/10000 (99.10%)\n",
            "\n",
            "Epoch--> 18\n"
          ]
        },
        {
          "output_type": "stream",
          "name": "stderr",
          "text": [
            "loss=0.04172472283244133 batch_id=468 Accurary=99.14: 100%|██████████| 469/469 [00:35<00:00, 13.07it/s]\n"
          ]
        },
        {
          "output_type": "stream",
          "name": "stdout",
          "text": [
            "\n",
            "Test set: Average loss: 0.0374, Accuracy: 9892/10000 (98.92%)\n",
            "\n",
            "Epoch--> 19\n"
          ]
        },
        {
          "output_type": "stream",
          "name": "stderr",
          "text": [
            "loss=0.025219814851880074 batch_id=468 Accurary=99.13: 100%|██████████| 469/469 [00:35<00:00, 13.27it/s]\n"
          ]
        },
        {
          "output_type": "stream",
          "name": "stdout",
          "text": [
            "\n",
            "Test set: Average loss: 0.0272, Accuracy: 9929/10000 (99.29%)\n",
            "\n",
            "Epoch--> 20\n"
          ]
        },
        {
          "output_type": "stream",
          "name": "stderr",
          "text": [
            "loss=0.038935497403144836 batch_id=468 Accurary=99.12: 100%|██████████| 469/469 [00:35<00:00, 13.12it/s]\n"
          ]
        },
        {
          "output_type": "stream",
          "name": "stdout",
          "text": [
            "\n",
            "Test set: Average loss: 0.0309, Accuracy: 9910/10000 (99.10%)\n",
            "\n"
          ]
        }
      ],
      "source": [
        "#Batch normalization\n",
        "from torch.optim.lr_scheduler import StepLR\n",
        "model = Net(norm_type=\"nn.BatchNorm2d\").to(device)\n",
        "optimizer = optim.SGD(model.parameters(), lr=0.01, momentum=0.9)\n",
        "test_loss_bn=[]\n",
        "test_acc_bn=[]\n",
        "EPOCHS =20\n",
        "#schedular = StepLR(optimizer=optimizer,step_size=6,gamma=0.1)\n",
        "for epoch in range(EPOCHS):\n",
        "    print(f'Epoch--> {epoch+1}')\n",
        "    train(model, device, train_loader, optimizer, epoch)\n",
        "    #print(\"Current learning rate:\", optimizer.param_groups[0]['lr'])\n",
        "    #schedular.step()\n",
        "    test_loss_bn ,test_acc_bn =test(model, device, test_loader,test_loss_bn ,test_acc_bn)"
      ]
    },
    {
      "cell_type": "code",
      "execution_count": 11,
      "metadata": {
        "colab": {
          "base_uri": "https://localhost:8080/",
          "height": 870
        },
        "id": "40LfYB0ALtNU",
        "outputId": "cf3edb5e-cc8e-42f4-b89a-b4a42ed90494"
      },
      "outputs": [
        {
          "output_type": "execute_result",
          "data": {
            "text/plain": [
              "Text(0.5, 1.0, 'Test Accuracy')"
            ]
          },
          "metadata": {},
          "execution_count": 11
        },
        {
          "output_type": "display_data",
          "data": {
            "text/plain": [
              "<Figure size 1500x1000 with 2 Axes>"
            ],
            "image/png": "[encoded data removed]"
          },
          "metadata": {}
        }
      ],
      "source": [
        "%matplotlib inline\n",
        "import matplotlib.pyplot as plt\n",
        "\n",
        "fig, axs = plt.subplots(2,1,figsize=(15,10))\n",
        "\n",
        "test_loss_gn = torch.tensor(test_loss_gn, device = 'cpu')\n",
        "test_loss_ln = torch.tensor(test_loss_ln, device = 'cpu')\n",
        "test_losses_bn = torch.tensor(test_loss_bn, device = 'cpu')\n",
        "\n",
        "axs[0].plot(test_loss_gn,label ='GN')\n",
        "axs[0].plot(test_loss_ln,label ='LN')\n",
        "axs[0].plot(test_loss_bn,label ='BN')\n",
        "axs[0].legend()\n",
        "axs[0].set_title(\"Test Loss\")\n",
        "\n",
        "\n",
        "axs[1].plot(test_acc_gn,label ='GN')\n",
        "axs[1].plot(test_acc_ln,label ='LN')\n",
        "axs[1].plot(test_acc_bn,label ='BN')\n",
        "axs[1].legend()\n",
        "axs[1].set_title(\"Test Accuracy\")"
      ]
    }
  ],
  "metadata": {
    "accelerator": "GPU",
    "colab": {
      "provenance": [],
      "gpuType": "T4",
      "authorship_tag": "ABX9TyM86GGBql/XpxGOr1h18pc0",
      "include_colab_link": true
    },
    "gpuClass": "standard",
    "kernelspec": {
      "display_name": "Python 3",
      "name": "python3"
    },
    "language_info": {
      "name": "python"
    }
  },
  "nbformat": 4,
  "nbformat_minor": 0
}